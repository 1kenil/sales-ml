{
 "cells": [
  {
   "cell_type": "code",
   "execution_count": 1,
   "id": "dd01214c",
   "metadata": {},
   "outputs": [],
   "source": [
    "import pandas as pd"
   ]
  },
  {
   "cell_type": "code",
   "execution_count": 2,
   "id": "8e5540b5",
   "metadata": {},
   "outputs": [],
   "source": [
    "advertising = pd.read_csv(\"advertising.csv\")"
   ]
  },
  {
   "cell_type": "code",
   "execution_count": 3,
   "id": "d5f52744",
   "metadata": {},
   "outputs": [
    {
     "data": {
      "text/html": [
       "<div>\n",
       "<style scoped>\n",
       "    .dataframe tbody tr th:only-of-type {\n",
       "        vertical-align: middle;\n",
       "    }\n",
       "\n",
       "    .dataframe tbody tr th {\n",
       "        vertical-align: top;\n",
       "    }\n",
       "\n",
       "    .dataframe thead th {\n",
       "        text-align: right;\n",
       "    }\n",
       "</style>\n",
       "<table border=\"1\" class=\"dataframe\">\n",
       "  <thead>\n",
       "    <tr style=\"text-align: right;\">\n",
       "      <th></th>\n",
       "      <th>TV</th>\n",
       "      <th>Mobile</th>\n",
       "      <th>Radio</th>\n",
       "      <th>Newspaper</th>\n",
       "      <th>Sales</th>\n",
       "    </tr>\n",
       "  </thead>\n",
       "  <tbody>\n",
       "    <tr>\n",
       "      <th>0</th>\n",
       "      <td>230.1</td>\n",
       "      <td>37.8</td>\n",
       "      <td>37.8</td>\n",
       "      <td>69.2</td>\n",
       "      <td>22.1</td>\n",
       "    </tr>\n",
       "    <tr>\n",
       "      <th>1</th>\n",
       "      <td>44.5</td>\n",
       "      <td>39.3</td>\n",
       "      <td>39.3</td>\n",
       "      <td>45.1</td>\n",
       "      <td>10.4</td>\n",
       "    </tr>\n",
       "    <tr>\n",
       "      <th>2</th>\n",
       "      <td>17.2</td>\n",
       "      <td>45.9</td>\n",
       "      <td>45.9</td>\n",
       "      <td>69.3</td>\n",
       "      <td>9.3</td>\n",
       "    </tr>\n",
       "    <tr>\n",
       "      <th>3</th>\n",
       "      <td>151.5</td>\n",
       "      <td>41.3</td>\n",
       "      <td>41.3</td>\n",
       "      <td>58.5</td>\n",
       "      <td>18.5</td>\n",
       "    </tr>\n",
       "    <tr>\n",
       "      <th>4</th>\n",
       "      <td>180.8</td>\n",
       "      <td>10.8</td>\n",
       "      <td>10.8</td>\n",
       "      <td>58.4</td>\n",
       "      <td>12.9</td>\n",
       "    </tr>\n",
       "  </tbody>\n",
       "</table>\n",
       "</div>"
      ],
      "text/plain": [
       "      TV  Mobile  Radio  Newspaper  Sales\n",
       "0  230.1    37.8   37.8       69.2   22.1\n",
       "1   44.5    39.3   39.3       45.1   10.4\n",
       "2   17.2    45.9   45.9       69.3    9.3\n",
       "3  151.5    41.3   41.3       58.5   18.5\n",
       "4  180.8    10.8   10.8       58.4   12.9"
      ]
     },
     "execution_count": 3,
     "metadata": {},
     "output_type": "execute_result"
    }
   ],
   "source": [
    "advertising.head()"
   ]
  },
  {
   "cell_type": "code",
   "execution_count": 4,
   "id": "04aa1f6b",
   "metadata": {},
   "outputs": [
    {
     "name": "stdout",
     "output_type": "stream",
     "text": [
      "<class 'pandas.core.frame.DataFrame'>\n",
      "RangeIndex: 200 entries, 0 to 199\n",
      "Data columns (total 5 columns):\n",
      " #   Column     Non-Null Count  Dtype  \n",
      "---  ------     --------------  -----  \n",
      " 0   TV         200 non-null    float64\n",
      " 1   Mobile     200 non-null    float64\n",
      " 2   Radio      200 non-null    float64\n",
      " 3   Newspaper  200 non-null    float64\n",
      " 4   Sales      200 non-null    float64\n",
      "dtypes: float64(5)\n",
      "memory usage: 7.9 KB\n"
     ]
    }
   ],
   "source": [
    "advertising.info()"
   ]
  },
  {
   "cell_type": "code",
   "execution_count": 5,
   "id": "71f78839",
   "metadata": {
    "scrolled": true
   },
   "outputs": [
    {
     "data": {
      "text/html": [
       "<div>\n",
       "<style scoped>\n",
       "    .dataframe tbody tr th:only-of-type {\n",
       "        vertical-align: middle;\n",
       "    }\n",
       "\n",
       "    .dataframe tbody tr th {\n",
       "        vertical-align: top;\n",
       "    }\n",
       "\n",
       "    .dataframe thead th {\n",
       "        text-align: right;\n",
       "    }\n",
       "</style>\n",
       "<table border=\"1\" class=\"dataframe\">\n",
       "  <thead>\n",
       "    <tr style=\"text-align: right;\">\n",
       "      <th></th>\n",
       "      <th>TV</th>\n",
       "      <th>Mobile</th>\n",
       "      <th>Radio</th>\n",
       "      <th>Newspaper</th>\n",
       "      <th>Sales</th>\n",
       "    </tr>\n",
       "  </thead>\n",
       "  <tbody>\n",
       "    <tr>\n",
       "      <th>count</th>\n",
       "      <td>200.000000</td>\n",
       "      <td>200.000000</td>\n",
       "      <td>200.000000</td>\n",
       "      <td>200.000000</td>\n",
       "      <td>200.000000</td>\n",
       "    </tr>\n",
       "    <tr>\n",
       "      <th>mean</th>\n",
       "      <td>147.042500</td>\n",
       "      <td>23.264000</td>\n",
       "      <td>23.264000</td>\n",
       "      <td>30.554000</td>\n",
       "      <td>14.022500</td>\n",
       "    </tr>\n",
       "    <tr>\n",
       "      <th>std</th>\n",
       "      <td>85.854236</td>\n",
       "      <td>14.846809</td>\n",
       "      <td>14.846809</td>\n",
       "      <td>21.778621</td>\n",
       "      <td>5.217457</td>\n",
       "    </tr>\n",
       "    <tr>\n",
       "      <th>min</th>\n",
       "      <td>0.700000</td>\n",
       "      <td>0.000000</td>\n",
       "      <td>0.000000</td>\n",
       "      <td>0.300000</td>\n",
       "      <td>1.600000</td>\n",
       "    </tr>\n",
       "    <tr>\n",
       "      <th>25%</th>\n",
       "      <td>74.375000</td>\n",
       "      <td>9.975000</td>\n",
       "      <td>9.975000</td>\n",
       "      <td>12.750000</td>\n",
       "      <td>10.375000</td>\n",
       "    </tr>\n",
       "    <tr>\n",
       "      <th>50%</th>\n",
       "      <td>149.750000</td>\n",
       "      <td>22.900000</td>\n",
       "      <td>22.900000</td>\n",
       "      <td>25.750000</td>\n",
       "      <td>12.900000</td>\n",
       "    </tr>\n",
       "    <tr>\n",
       "      <th>75%</th>\n",
       "      <td>218.825000</td>\n",
       "      <td>36.525000</td>\n",
       "      <td>36.525000</td>\n",
       "      <td>45.100000</td>\n",
       "      <td>17.400000</td>\n",
       "    </tr>\n",
       "    <tr>\n",
       "      <th>max</th>\n",
       "      <td>296.400000</td>\n",
       "      <td>49.600000</td>\n",
       "      <td>49.600000</td>\n",
       "      <td>114.000000</td>\n",
       "      <td>27.000000</td>\n",
       "    </tr>\n",
       "  </tbody>\n",
       "</table>\n",
       "</div>"
      ],
      "text/plain": [
       "               TV      Mobile       Radio   Newspaper       Sales\n",
       "count  200.000000  200.000000  200.000000  200.000000  200.000000\n",
       "mean   147.042500   23.264000   23.264000   30.554000   14.022500\n",
       "std     85.854236   14.846809   14.846809   21.778621    5.217457\n",
       "min      0.700000    0.000000    0.000000    0.300000    1.600000\n",
       "25%     74.375000    9.975000    9.975000   12.750000   10.375000\n",
       "50%    149.750000   22.900000   22.900000   25.750000   12.900000\n",
       "75%    218.825000   36.525000   36.525000   45.100000   17.400000\n",
       "max    296.400000   49.600000   49.600000  114.000000   27.000000"
      ]
     },
     "execution_count": 5,
     "metadata": {},
     "output_type": "execute_result"
    }
   ],
   "source": [
    "advertising.describe()"
   ]
  },
  {
   "cell_type": "code",
   "execution_count": 6,
   "id": "92804bda",
   "metadata": {},
   "outputs": [],
   "source": [
    "import matplotlib.pyplot as plt"
   ]
  },
  {
   "cell_type": "code",
   "execution_count": 7,
   "id": "d90b559e",
   "metadata": {},
   "outputs": [],
   "source": [
    "#advertising.hist(bins=200, figsize=(20, 15))"
   ]
  },
  {
   "cell_type": "markdown",
   "id": "c90e84bf",
   "metadata": {},
   "source": [
    "# Train-Test Data Splitting function\n",
    "## Aa function banayu che data split karva mate"
   ]
  },
  {
   "cell_type": "code",
   "execution_count": 8,
   "id": "a098a37b",
   "metadata": {},
   "outputs": [],
   "source": [
    "import numpy as np\n",
    "def data_split(data, test_ratio):\n",
    "    np.random.seed(42)\n",
    "    shuffled = np.random.permutation(len(data))\n",
    "    test_set_size = int(len(data) * test_ratio)\n",
    "    test_indices = shuffled[:test_set_size]\n",
    "    train_indices = shuffled[test_set_size:]\n",
    "    return data.iloc[train_indices], data.iloc[test_indices]"
   ]
  },
  {
   "cell_type": "markdown",
   "id": "cd2d1b84",
   "metadata": {},
   "source": [
    "## Function call kariyu, and data split thayo ee print karayo"
   ]
  },
  {
   "cell_type": "code",
   "execution_count": 9,
   "id": "60ba0dcb",
   "metadata": {},
   "outputs": [
    {
     "name": "stdout",
     "output_type": "stream",
     "text": [
      "Train Set Length: 160\n",
      "Test Set Length: 40\n",
      "\n",
      "Train Set che aa\n",
      "        TV  Mobile  Radio  Newspaper  Sales\n",
      "79   116.0     7.7    7.7       23.1   11.0\n",
      "197  177.0     9.3    9.3        6.4   12.8\n",
      "38    43.1    26.7   26.7       35.1   10.1\n",
      "24    62.3    12.6   12.6       18.3    9.7\n",
      "122  224.0     2.4    2.4       15.6   11.6\n",
      "..     ...     ...    ...        ...    ...\n",
      "106   25.0    11.0   11.0       29.7    7.2\n",
      "14   204.1    32.9   32.9       46.0   19.0\n",
      "92   217.7    33.5   33.5       59.0   19.4\n",
      "179  165.6    10.0   10.0       17.6   12.6\n",
      "102  280.2    10.1   10.1       21.4   14.8\n",
      "\n",
      "[160 rows x 5 columns]\n",
      "\n",
      "\n",
      "Test Set che aa\n",
      "        TV  Mobile  Radio  Newspaper  Sales\n",
      "95   163.3    31.6   31.6       52.9   16.9\n",
      "15   195.4    47.7   47.7       52.9   22.4\n",
      "30   292.9    28.3   28.3       43.2   21.4\n",
      "158   11.7    36.9   36.9       45.2    7.3\n",
      "128  220.3    49.0   49.0        3.2   24.7\n",
      "115   75.1    35.0   35.0       52.7   12.6\n",
      "69   216.8    43.9   43.9       27.2   22.3\n",
      "170   50.0    11.6   11.6       18.4    8.4\n",
      "174  222.4     3.4    3.4       13.1   11.5\n",
      "45   175.1    22.5   22.5       31.5   14.9\n",
      "66    31.5    24.6   24.6        2.2    9.5\n",
      "182   56.2     5.7    5.7       29.7    8.7\n",
      "165  234.5     3.4    3.4       84.8   11.9\n",
      "78     5.4    29.9   29.9        9.4    5.3\n",
      "186  139.5     2.1    2.1       26.6   10.3\n",
      "177  170.2     7.8    7.8       35.2   11.7\n",
      "56     7.3    28.1   28.1       41.4    5.5\n",
      "152  197.6    23.3   23.3       14.2   16.6\n",
      "82    75.3    20.3   20.3       32.5   11.3\n",
      "68   237.4    27.5   27.5       11.0   18.9\n",
      "124  229.5    32.3   32.3       74.2   19.7\n",
      "16    67.8    36.6   36.6      114.0   12.5\n",
      "148   38.0    40.3   40.3       11.9   10.9\n",
      "93   250.9    36.5   36.5       72.3   22.2\n",
      "65    69.0     9.3    9.3        0.9    9.3\n",
      "60    53.5     2.0    2.0       21.4    8.1\n",
      "84   213.5    43.0   43.0       33.8   21.7\n",
      "67   139.3    14.5   14.5       10.2   13.4\n",
      "125   87.2    11.8   11.8       25.9   10.6\n",
      "132    8.4    27.2   27.2        2.1    5.7\n",
      "9    199.8     2.6    2.6       21.2   10.6\n",
      "18    69.2    20.5   20.5       18.3   11.3\n",
      "55   198.9    49.4   49.4       60.0   23.7\n",
      "75    16.9    43.7   43.7       89.4    8.7\n",
      "150  280.7    13.9   13.9       37.0   16.1\n",
      "104  238.2    34.3   34.3        5.3   20.7\n",
      "135   48.3    47.0   47.0        8.5   11.6\n",
      "137  273.7    28.9   28.9       59.7   20.8\n",
      "164  117.2    14.7   14.7        5.4   11.9\n",
      "76    27.5     1.6    1.6       20.7    6.9\n"
     ]
    }
   ],
   "source": [
    "train_set, test_set = data_split(advertising, 0.2)\n",
    "\n",
    "print(f\"Train Set Length: {len(train_set)}\")\n",
    "print(f\"Test Set Length: {len(test_set)}\")\n",
    "print(\"\\nTrain Set che aa\")\n",
    "print(train_set)\n",
    "print(\"\\n\\nTest Set che aa\")\n",
    "print(test_set)"
   ]
  },
  {
   "cell_type": "markdown",
   "id": "64475f9b",
   "metadata": {},
   "source": [
    "# Splitting function is already available in sklearn lib😒 "
   ]
  },
  {
   "cell_type": "code",
   "execution_count": 10,
   "id": "46898954",
   "metadata": {},
   "outputs": [
    {
     "name": "stdout",
     "output_type": "stream",
     "text": [
      "Train Set Length: 160\n",
      "Test Set Length: 40\n",
      "\n",
      "Train Set che aa\n",
      "        TV  Mobile  Radio  Newspaper  Sales\n",
      "79   116.0     7.7    7.7       23.1   11.0\n",
      "197  177.0     9.3    9.3        6.4   12.8\n",
      "38    43.1    26.7   26.7       35.1   10.1\n",
      "24    62.3    12.6   12.6       18.3    9.7\n",
      "122  224.0     2.4    2.4       15.6   11.6\n",
      "..     ...     ...    ...        ...    ...\n",
      "106   25.0    11.0   11.0       29.7    7.2\n",
      "14   204.1    32.9   32.9       46.0   19.0\n",
      "92   217.7    33.5   33.5       59.0   19.4\n",
      "179  165.6    10.0   10.0       17.6   12.6\n",
      "102  280.2    10.1   10.1       21.4   14.8\n",
      "\n",
      "[160 rows x 5 columns]\n",
      "\n",
      "\n",
      "Test Set che aa\n",
      "        TV  Mobile  Radio  Newspaper  Sales\n",
      "95   163.3    31.6   31.6       52.9   16.9\n",
      "15   195.4    47.7   47.7       52.9   22.4\n",
      "30   292.9    28.3   28.3       43.2   21.4\n",
      "158   11.7    36.9   36.9       45.2    7.3\n",
      "128  220.3    49.0   49.0        3.2   24.7\n",
      "115   75.1    35.0   35.0       52.7   12.6\n",
      "69   216.8    43.9   43.9       27.2   22.3\n",
      "170   50.0    11.6   11.6       18.4    8.4\n",
      "174  222.4     3.4    3.4       13.1   11.5\n",
      "45   175.1    22.5   22.5       31.5   14.9\n",
      "66    31.5    24.6   24.6        2.2    9.5\n",
      "182   56.2     5.7    5.7       29.7    8.7\n",
      "165  234.5     3.4    3.4       84.8   11.9\n",
      "78     5.4    29.9   29.9        9.4    5.3\n",
      "186  139.5     2.1    2.1       26.6   10.3\n",
      "177  170.2     7.8    7.8       35.2   11.7\n",
      "56     7.3    28.1   28.1       41.4    5.5\n",
      "152  197.6    23.3   23.3       14.2   16.6\n",
      "82    75.3    20.3   20.3       32.5   11.3\n",
      "68   237.4    27.5   27.5       11.0   18.9\n",
      "124  229.5    32.3   32.3       74.2   19.7\n",
      "16    67.8    36.6   36.6      114.0   12.5\n",
      "148   38.0    40.3   40.3       11.9   10.9\n",
      "93   250.9    36.5   36.5       72.3   22.2\n",
      "65    69.0     9.3    9.3        0.9    9.3\n",
      "60    53.5     2.0    2.0       21.4    8.1\n",
      "84   213.5    43.0   43.0       33.8   21.7\n",
      "67   139.3    14.5   14.5       10.2   13.4\n",
      "125   87.2    11.8   11.8       25.9   10.6\n",
      "132    8.4    27.2   27.2        2.1    5.7\n",
      "9    199.8     2.6    2.6       21.2   10.6\n",
      "18    69.2    20.5   20.5       18.3   11.3\n",
      "55   198.9    49.4   49.4       60.0   23.7\n",
      "75    16.9    43.7   43.7       89.4    8.7\n",
      "150  280.7    13.9   13.9       37.0   16.1\n",
      "104  238.2    34.3   34.3        5.3   20.7\n",
      "135   48.3    47.0   47.0        8.5   11.6\n",
      "137  273.7    28.9   28.9       59.7   20.8\n",
      "164  117.2    14.7   14.7        5.4   11.9\n",
      "76    27.5     1.6    1.6       20.7    6.9\n"
     ]
    }
   ],
   "source": [
    "from sklearn.model_selection import train_test_split\n",
    "train_set, test_set = train_test_split(advertising, test_size=0.2, random_state=42)\n",
    "\n",
    "print(f\"Train Set Length: {len(train_set)}\")\n",
    "print(f\"Test Set Length: {len(test_set)}\")\n",
    "print(\"\\nTrain Set che aa\")\n",
    "print(train_set)\n",
    "print(\"\\n\\nTest Set che aa\")\n",
    "print(test_set)"
   ]
  },
  {
   "cell_type": "markdown",
   "id": "0d95cb2c",
   "metadata": {},
   "source": [
    "# Strong Co-relation hoy to eva lable/variable ne perfect test and train data ma split karva mate\n"
   ]
  },
  {
   "cell_type": "code",
   "execution_count": 11,
   "id": "8dd23eac",
   "metadata": {},
   "outputs": [],
   "source": [
    "# from sklearn.model_selection import StratifiedShuffleSplit\n",
    "# split = StratifiedShuffleSplit(n_splits=1, test_size=0.2, random_state=42)\n",
    "# for train_index, test_index in split.split(advertising, advertising['TV']):\n",
    "#     start_train_set = advertising.loc[train_index]\n",
    "#     start_test_set = advertising.loc[test_index]\n"
   ]
  },
  {
   "cell_type": "markdown",
   "id": "2047ef71",
   "metadata": {},
   "source": [
    "# Co-relation check karva mate input and output vache"
   ]
  },
  {
   "cell_type": "code",
   "execution_count": 12,
   "id": "bb26ae12",
   "metadata": {},
   "outputs": [
    {
     "data": {
      "text/plain": [
       "Sales        1.000000\n",
       "TV           0.782224\n",
       "Mobile       0.576223\n",
       "Radio        0.576223\n",
       "Newspaper    0.228299\n",
       "Name: Sales, dtype: float64"
      ]
     },
     "execution_count": 12,
     "metadata": {},
     "output_type": "execute_result"
    }
   ],
   "source": [
    "corr_metrix = advertising.corr()\n",
    "corr_metrix['Sales'].sort_values(ascending=False)"
   ]
  },
  {
   "cell_type": "markdown",
   "id": "4798afb1",
   "metadata": {},
   "source": [
    "# Scikit-learn Design\n",
    "\n"
   ]
  },
  {
   "cell_type": "markdown",
   "id": "2bbdca71",
   "metadata": {},
   "source": [
    "Mainly three types of objects\n",
    "\n",
    "1. Estimators - estimate karva mate from data e.g. SimpleImputer\n",
    "2 methods che\n",
    "Fit - Fit the dataset and internal paremeters\n",
    "Transform method\n",
    "2. Transformers - this method take input and return output based on learnings from fit()\n",
    "It also has convenience function called fit_transform() which fits the data and then tranform.\n",
    "3. Predictors - LinerRegration Modal is and example of pridictor.\n",
    "fit() and predict() are common function. It also gives score() function which will evaluate the pridictions.\n",
    "\n",
    "\n"
   ]
  },
  {
   "cell_type": "markdown",
   "id": "5d56288d",
   "metadata": {},
   "source": [
    "# Feature Scaling"
   ]
  },
  {
   "cell_type": "markdown",
   "id": "293195de",
   "metadata": {},
   "source": [
    "Mainly, 2 type na Scaling methods hoy:\n",
    "1. Min-max scaling (Normalization)\n",
    "  (value - min)/(max - min) badhi value par aa karva nu same scale ma lava mate\n",
    "  Sklearn ma class che ani mate MinMaxScaler\n",
    "2. Standardization\n",
    "  (value - mean)/std\n",
    "  Sklearn ma che class StandardScaler"
   ]
  },
  {
   "cell_type": "code",
   "execution_count": 13,
   "id": "6313745c",
   "metadata": {},
   "outputs": [],
   "source": [
    "advertising_data = train_set.drop(\"Sales\", axis=1)\n",
    "advertising_lables = train_set[\"Sales\"].copy()"
   ]
  },
  {
   "cell_type": "code",
   "execution_count": 14,
   "id": "9a7b69cc",
   "metadata": {},
   "outputs": [
    {
     "data": {
      "text/plain": [
       "SimpleImputer(strategy='median')"
      ]
     },
     "execution_count": 14,
     "metadata": {},
     "output_type": "execute_result"
    }
   ],
   "source": [
    "from sklearn.impute import SimpleImputer\n",
    "imputer = SimpleImputer(strategy=\"median\")\n",
    "imputer.fit(advertising_data) "
   ]
  },
  {
   "cell_type": "code",
   "execution_count": 15,
   "id": "b0e72ef8",
   "metadata": {},
   "outputs": [
    {
     "data": {
      "text/plain": [
       "array([150.65,  21.2 ,  21.2 ,  25.6 ])"
      ]
     },
     "execution_count": 15,
     "metadata": {},
     "output_type": "execute_result"
    }
   ],
   "source": [
    "imputer.statistics_"
   ]
  },
  {
   "cell_type": "code",
   "execution_count": 16,
   "id": "d36dc6aa",
   "metadata": {},
   "outputs": [
    {
     "data": {
      "text/html": [
       "<div>\n",
       "<style scoped>\n",
       "    .dataframe tbody tr th:only-of-type {\n",
       "        vertical-align: middle;\n",
       "    }\n",
       "\n",
       "    .dataframe tbody tr th {\n",
       "        vertical-align: top;\n",
       "    }\n",
       "\n",
       "    .dataframe thead th {\n",
       "        text-align: right;\n",
       "    }\n",
       "</style>\n",
       "<table border=\"1\" class=\"dataframe\">\n",
       "  <thead>\n",
       "    <tr style=\"text-align: right;\">\n",
       "      <th></th>\n",
       "      <th>TV</th>\n",
       "      <th>Mobile</th>\n",
       "      <th>Radio</th>\n",
       "      <th>Newspaper</th>\n",
       "    </tr>\n",
       "  </thead>\n",
       "  <tbody>\n",
       "    <tr>\n",
       "      <th>count</th>\n",
       "      <td>160.000000</td>\n",
       "      <td>160.000000</td>\n",
       "      <td>160.000000</td>\n",
       "      <td>160.000000</td>\n",
       "    </tr>\n",
       "    <tr>\n",
       "      <th>mean</th>\n",
       "      <td>150.019375</td>\n",
       "      <td>22.875625</td>\n",
       "      <td>22.875625</td>\n",
       "      <td>29.945625</td>\n",
       "    </tr>\n",
       "    <tr>\n",
       "      <th>std</th>\n",
       "      <td>84.418857</td>\n",
       "      <td>14.805216</td>\n",
       "      <td>14.805216</td>\n",
       "      <td>20.336449</td>\n",
       "    </tr>\n",
       "    <tr>\n",
       "      <th>min</th>\n",
       "      <td>0.700000</td>\n",
       "      <td>0.000000</td>\n",
       "      <td>0.000000</td>\n",
       "      <td>0.300000</td>\n",
       "    </tr>\n",
       "    <tr>\n",
       "      <th>25%</th>\n",
       "      <td>77.750000</td>\n",
       "      <td>9.825000</td>\n",
       "      <td>9.825000</td>\n",
       "      <td>12.875000</td>\n",
       "    </tr>\n",
       "    <tr>\n",
       "      <th>50%</th>\n",
       "      <td>150.650000</td>\n",
       "      <td>21.200000</td>\n",
       "      <td>21.200000</td>\n",
       "      <td>25.600000</td>\n",
       "    </tr>\n",
       "    <tr>\n",
       "      <th>75%</th>\n",
       "      <td>218.825000</td>\n",
       "      <td>36.425000</td>\n",
       "      <td>36.425000</td>\n",
       "      <td>44.500000</td>\n",
       "    </tr>\n",
       "    <tr>\n",
       "      <th>max</th>\n",
       "      <td>296.400000</td>\n",
       "      <td>49.600000</td>\n",
       "      <td>49.600000</td>\n",
       "      <td>100.900000</td>\n",
       "    </tr>\n",
       "  </tbody>\n",
       "</table>\n",
       "</div>"
      ],
      "text/plain": [
       "               TV      Mobile       Radio   Newspaper\n",
       "count  160.000000  160.000000  160.000000  160.000000\n",
       "mean   150.019375   22.875625   22.875625   29.945625\n",
       "std     84.418857   14.805216   14.805216   20.336449\n",
       "min      0.700000    0.000000    0.000000    0.300000\n",
       "25%     77.750000    9.825000    9.825000   12.875000\n",
       "50%    150.650000   21.200000   21.200000   25.600000\n",
       "75%    218.825000   36.425000   36.425000   44.500000\n",
       "max    296.400000   49.600000   49.600000  100.900000"
      ]
     },
     "execution_count": 16,
     "metadata": {},
     "output_type": "execute_result"
    }
   ],
   "source": [
    "X = imputer.transform(advertising_data)\n",
    "advertising_tr = pd.DataFrame(X, columns=advertising_data.columns)\n",
    "advertising_tr.describe()"
   ]
  },
  {
   "cell_type": "markdown",
   "id": "4eadf12a",
   "metadata": {},
   "source": [
    "# Pipline"
   ]
  },
  {
   "cell_type": "code",
   "execution_count": 17,
   "id": "c8c2bcfd",
   "metadata": {},
   "outputs": [],
   "source": [
    "from sklearn.pipeline import Pipeline\n",
    "from sklearn.preprocessing import StandardScaler\n",
    "\n",
    "my_pipeline = Pipeline([\n",
    "    ('imputer', SimpleImputer(strategy=\"median\")),\n",
    "    ('std_scaler', StandardScaler()),\n",
    "])\n",
    "\n",
    "\n",
    "# upar je badhu kariyu ee tya nai karva nu ee badhu pipeline ma karva nu avde sikhva mate chale"
   ]
  },
  {
   "cell_type": "code",
   "execution_count": 18,
   "id": "685a0354",
   "metadata": {},
   "outputs": [],
   "source": [
    "advertising_num = my_pipeline.fit_transform(advertising_tr)"
   ]
  },
  {
   "cell_type": "code",
   "execution_count": 19,
   "id": "1675190d",
   "metadata": {},
   "outputs": [
    {
     "data": {
      "text/plain": [
       "(160, 4)"
      ]
     },
     "execution_count": 19,
     "metadata": {},
     "output_type": "execute_result"
    }
   ],
   "source": [
    "advertising_num.shape"
   ]
  },
  {
   "cell_type": "markdown",
   "id": "18efd264",
   "metadata": {},
   "source": [
    "# Select a Modal "
   ]
  },
  {
   "cell_type": "code",
   "execution_count": 20,
   "id": "ef249c78",
   "metadata": {},
   "outputs": [
    {
     "data": {
      "text/plain": [
       "RandomForestRegressor()"
      ]
     },
     "execution_count": 20,
     "metadata": {},
     "output_type": "execute_result"
    }
   ],
   "source": [
    "from sklearn.linear_model import LinearRegression\n",
    "from sklearn.tree import DecisionTreeRegressor\n",
    "from sklearn.ensemble import RandomForestRegressor\n",
    "# model = LinearRegression()\n",
    "# model = DecisionTreeRegressor()\n",
    "model = RandomForestRegressor()\n",
    "model.fit(advertising_num,advertising_lables)"
   ]
  },
  {
   "cell_type": "code",
   "execution_count": 21,
   "id": "161e2751",
   "metadata": {},
   "outputs": [],
   "source": [
    "some_data = advertising_data.iloc[:1]\n",
    "some_lables = advertising_lables.iloc[:1]\n",
    "praper_data = my_pipeline.transform(some_data)"
   ]
  },
  {
   "cell_type": "code",
   "execution_count": 22,
   "id": "de39e3bf",
   "metadata": {},
   "outputs": [
    {
     "data": {
      "text/plain": [
       "array([11.119])"
      ]
     },
     "execution_count": 22,
     "metadata": {},
     "output_type": "execute_result"
    }
   ],
   "source": [
    "model.predict(praper_data)"
   ]
  },
  {
   "cell_type": "code",
   "execution_count": 23,
   "id": "fb003580",
   "metadata": {},
   "outputs": [
    {
     "data": {
      "text/plain": [
       "[11.0]"
      ]
     },
     "execution_count": 23,
     "metadata": {},
     "output_type": "execute_result"
    }
   ],
   "source": [
    "list(some_lables)"
   ]
  },
  {
   "cell_type": "markdown",
   "id": "2f315acb",
   "metadata": {},
   "source": [
    "# Evaluating the Model"
   ]
  },
  {
   "cell_type": "code",
   "execution_count": 24,
   "id": "cc705393",
   "metadata": {},
   "outputs": [],
   "source": [
    "from sklearn.metrics import mean_squared_error\n",
    "advertising_predctions = model.predict(advertising_num)\n",
    "lin_mse = mean_squared_error(advertising_lables, advertising_predctions)\n",
    "lin_rmse = np.sqrt(lin_mse)"
   ]
  },
  {
   "cell_type": "code",
   "execution_count": 25,
   "id": "cf03b434",
   "metadata": {},
   "outputs": [
    {
     "data": {
      "text/plain": [
       "0.09101948749999947"
      ]
     },
     "execution_count": 25,
     "metadata": {},
     "output_type": "execute_result"
    }
   ],
   "source": [
    "lin_mse"
   ]
  },
  {
   "cell_type": "code",
   "execution_count": 26,
   "id": "93964c6d",
   "metadata": {},
   "outputs": [
    {
     "data": {
      "text/plain": [
       "0.30169436106762"
      ]
     },
     "execution_count": 26,
     "metadata": {},
     "output_type": "execute_result"
    }
   ],
   "source": [
    "lin_rmse"
   ]
  },
  {
   "cell_type": "code",
   "execution_count": 27,
   "id": "6e47d392",
   "metadata": {},
   "outputs": [],
   "source": [
    "import pickle\n",
    "pickle.dump(model, open('advertising.pkl', 'wb'))"
   ]
  },
  {
   "cell_type": "code",
   "execution_count": 28,
   "id": "df5d1285",
   "metadata": {},
   "outputs": [
    {
     "data": {
      "text/plain": [
       "['advertising.joblib']"
      ]
     },
     "execution_count": 28,
     "metadata": {},
     "output_type": "execute_result"
    }
   ],
   "source": [
    "from joblib import dump,load\n",
    "dump(model, 'advertising.joblib')"
   ]
  },
  {
   "cell_type": "markdown",
   "id": "edb8ff20",
   "metadata": {},
   "source": [
    "# Using better evalation - Cross Validation"
   ]
  },
  {
   "cell_type": "code",
   "execution_count": 29,
   "id": "89c81651",
   "metadata": {},
   "outputs": [],
   "source": [
    "from sklearn.model_selection import cross_val_score\n",
    "scores = cross_val_score(model, advertising_num, advertising_lables, scoring=\"neg_mean_squared_error\", cv=10)\n",
    "rmse_scores = np.sqrt(-scores)"
   ]
  },
  {
   "cell_type": "code",
   "execution_count": 30,
   "id": "3ce01e1c",
   "metadata": {},
   "outputs": [
    {
     "data": {
      "text/plain": [
       "array([0.68898059, 0.79719681, 0.89275784, 0.85736526, 0.71391859,\n",
       "       0.7890166 , 0.77745197, 0.83505292, 1.35146303, 0.54696772])"
      ]
     },
     "execution_count": 30,
     "metadata": {},
     "output_type": "execute_result"
    }
   ],
   "source": [
    "rmse_scores"
   ]
  },
  {
   "cell_type": "code",
   "execution_count": 31,
   "id": "d9e8c68d",
   "metadata": {},
   "outputs": [],
   "source": [
    "def print_score(rmse_scores):\n",
    "    print(\"Scores: \", scores)\n",
    "    print(\"Mean: \", scores.mean())\n",
    "    print(\"Standard Deviation: \", scores.std())\n",
    "    "
   ]
  },
  {
   "cell_type": "code",
   "execution_count": 32,
   "id": "4b13040a",
   "metadata": {},
   "outputs": [
    {
     "name": "stdout",
     "output_type": "stream",
     "text": [
      "Scores:  [-0.47469425 -0.63552275 -0.79701656 -0.73507519 -0.50967975 -0.62254719\n",
      " -0.60443156 -0.69731337 -1.82645231 -0.29917369]\n",
      "Mean:  -0.7201906624999987\n",
      "Standard Deviation:  0.39273447460841493\n"
     ]
    }
   ],
   "source": [
    "print_score(rmse_scores)"
   ]
  },
  {
   "cell_type": "markdown",
   "id": "e8473e8b",
   "metadata": {},
   "source": [
    "# Model Preformance \n",
    "\n",
    "LinearRegression\n",
    "Mean:  -2.9586365170146443\n",
    "Standard Deviation:  1.8383801686736772\n",
    "\n",
    "DecisionTreeRegressor\n",
    "Mean:  -1.619999999999999\n",
    "Standard Deviation:  0.8454798471134597\n",
    "\n",
    "RandomForestRegressor\n",
    "Mean:  -0.7201906624999987\n",
    "Standard Deviation:  0.39273447460841493\n",
    "\n",
    "#Best model acording to very less Error is RandomForestRegressor"
   ]
  },
  {
   "cell_type": "markdown",
   "id": "4d289642",
   "metadata": {},
   "source": [
    "# Best model acording to very less Error is RandomForestRegressor"
   ]
  },
  {
   "cell_type": "markdown",
   "id": "c0cb4941",
   "metadata": {},
   "source": [
    "# So we will use this model for this Example"
   ]
  },
  {
   "cell_type": "markdown",
   "id": "135da1ff",
   "metadata": {},
   "source": [
    "# Now build model with the help of joblib"
   ]
  },
  {
   "cell_type": "code",
   "execution_count": null,
   "id": "e548805e",
   "metadata": {},
   "outputs": [],
   "source": []
  },
  {
   "cell_type": "markdown",
   "id": "5dd863ba",
   "metadata": {},
   "source": [
    "# Testing the model on Test Data"
   ]
  },
  {
   "cell_type": "code",
   "execution_count": 38,
   "id": "3f700df0",
   "metadata": {},
   "outputs": [],
   "source": [
    "advertising_test  = test_set.drop(\"Sales\", axis=1)\n",
    "advertising_test_lables = test_set[\"Sales\"].copy()\n",
    "advertising_prepared = my_pipeline.transform(advertising_test)\n",
    "advertising_pridictions = model.predict(advertising_prepared)\n",
    "final_mse = mean_squared_error(advertising_test_lables, advertising_pridictions)\n",
    "final_rsme = np.sqrt(final_mse)"
   ]
  },
  {
   "cell_type": "code",
   "execution_count": 34,
   "id": "62da3c43",
   "metadata": {},
   "outputs": [],
   "source": [
    "final_rsme"
   ]
  },
  {
   "cell_type": "code",
   "execution_count": 40,
   "id": "7e09106b",
   "metadata": {},
   "outputs": [
    {
     "name": "stdout",
     "output_type": "stream",
     "text": [
      "[17.868 21.966 20.406  6.684 23.211 13.117 22.744  9.684 11.846 15.656\n",
      "  7.042  9.065 12.117  4.499 10.429 12.723  6.709 16.526 11.305 19.54\n",
      " 20.045 12.687 10.344 22.327 10.054  8.977 22.377 12.828  9.988  4.798\n",
      " 11.597 10.932 22.198  8.428 15.227 20.451 12.322 20.306 12.265  7.7  ]\n"
     ]
    }
   ],
   "source": [
    "print(advertising_pridictions)"
   ]
  },
  {
   "cell_type": "code",
   "execution_count": 36,
   "id": "744aa08f",
   "metadata": {},
   "outputs": [],
   "source": [
    "print(list(advertising_test_lables))"
   ]
  },
  {
   "cell_type": "code",
   "execution_count": 41,
   "id": "9f5ced3e",
   "metadata": {},
   "outputs": [
    {
     "data": {
      "text/html": [
       "<div>\n",
       "<style scoped>\n",
       "    .dataframe tbody tr th:only-of-type {\n",
       "        vertical-align: middle;\n",
       "    }\n",
       "\n",
       "    .dataframe tbody tr th {\n",
       "        vertical-align: top;\n",
       "    }\n",
       "\n",
       "    .dataframe thead th {\n",
       "        text-align: right;\n",
       "    }\n",
       "</style>\n",
       "<table border=\"1\" class=\"dataframe\">\n",
       "  <thead>\n",
       "    <tr style=\"text-align: right;\">\n",
       "      <th></th>\n",
       "      <th>TV</th>\n",
       "      <th>Mobile</th>\n",
       "      <th>Radio</th>\n",
       "      <th>Newspaper</th>\n",
       "    </tr>\n",
       "  </thead>\n",
       "  <tbody>\n",
       "    <tr>\n",
       "      <th>95</th>\n",
       "      <td>163.3</td>\n",
       "      <td>31.6</td>\n",
       "      <td>31.6</td>\n",
       "      <td>52.9</td>\n",
       "    </tr>\n",
       "    <tr>\n",
       "      <th>15</th>\n",
       "      <td>195.4</td>\n",
       "      <td>47.7</td>\n",
       "      <td>47.7</td>\n",
       "      <td>52.9</td>\n",
       "    </tr>\n",
       "    <tr>\n",
       "      <th>30</th>\n",
       "      <td>292.9</td>\n",
       "      <td>28.3</td>\n",
       "      <td>28.3</td>\n",
       "      <td>43.2</td>\n",
       "    </tr>\n",
       "    <tr>\n",
       "      <th>158</th>\n",
       "      <td>11.7</td>\n",
       "      <td>36.9</td>\n",
       "      <td>36.9</td>\n",
       "      <td>45.2</td>\n",
       "    </tr>\n",
       "    <tr>\n",
       "      <th>128</th>\n",
       "      <td>220.3</td>\n",
       "      <td>49.0</td>\n",
       "      <td>49.0</td>\n",
       "      <td>3.2</td>\n",
       "    </tr>\n",
       "    <tr>\n",
       "      <th>115</th>\n",
       "      <td>75.1</td>\n",
       "      <td>35.0</td>\n",
       "      <td>35.0</td>\n",
       "      <td>52.7</td>\n",
       "    </tr>\n",
       "    <tr>\n",
       "      <th>69</th>\n",
       "      <td>216.8</td>\n",
       "      <td>43.9</td>\n",
       "      <td>43.9</td>\n",
       "      <td>27.2</td>\n",
       "    </tr>\n",
       "    <tr>\n",
       "      <th>170</th>\n",
       "      <td>50.0</td>\n",
       "      <td>11.6</td>\n",
       "      <td>11.6</td>\n",
       "      <td>18.4</td>\n",
       "    </tr>\n",
       "    <tr>\n",
       "      <th>174</th>\n",
       "      <td>222.4</td>\n",
       "      <td>3.4</td>\n",
       "      <td>3.4</td>\n",
       "      <td>13.1</td>\n",
       "    </tr>\n",
       "    <tr>\n",
       "      <th>45</th>\n",
       "      <td>175.1</td>\n",
       "      <td>22.5</td>\n",
       "      <td>22.5</td>\n",
       "      <td>31.5</td>\n",
       "    </tr>\n",
       "    <tr>\n",
       "      <th>66</th>\n",
       "      <td>31.5</td>\n",
       "      <td>24.6</td>\n",
       "      <td>24.6</td>\n",
       "      <td>2.2</td>\n",
       "    </tr>\n",
       "    <tr>\n",
       "      <th>182</th>\n",
       "      <td>56.2</td>\n",
       "      <td>5.7</td>\n",
       "      <td>5.7</td>\n",
       "      <td>29.7</td>\n",
       "    </tr>\n",
       "    <tr>\n",
       "      <th>165</th>\n",
       "      <td>234.5</td>\n",
       "      <td>3.4</td>\n",
       "      <td>3.4</td>\n",
       "      <td>84.8</td>\n",
       "    </tr>\n",
       "    <tr>\n",
       "      <th>78</th>\n",
       "      <td>5.4</td>\n",
       "      <td>29.9</td>\n",
       "      <td>29.9</td>\n",
       "      <td>9.4</td>\n",
       "    </tr>\n",
       "    <tr>\n",
       "      <th>186</th>\n",
       "      <td>139.5</td>\n",
       "      <td>2.1</td>\n",
       "      <td>2.1</td>\n",
       "      <td>26.6</td>\n",
       "    </tr>\n",
       "    <tr>\n",
       "      <th>177</th>\n",
       "      <td>170.2</td>\n",
       "      <td>7.8</td>\n",
       "      <td>7.8</td>\n",
       "      <td>35.2</td>\n",
       "    </tr>\n",
       "    <tr>\n",
       "      <th>56</th>\n",
       "      <td>7.3</td>\n",
       "      <td>28.1</td>\n",
       "      <td>28.1</td>\n",
       "      <td>41.4</td>\n",
       "    </tr>\n",
       "    <tr>\n",
       "      <th>152</th>\n",
       "      <td>197.6</td>\n",
       "      <td>23.3</td>\n",
       "      <td>23.3</td>\n",
       "      <td>14.2</td>\n",
       "    </tr>\n",
       "    <tr>\n",
       "      <th>82</th>\n",
       "      <td>75.3</td>\n",
       "      <td>20.3</td>\n",
       "      <td>20.3</td>\n",
       "      <td>32.5</td>\n",
       "    </tr>\n",
       "    <tr>\n",
       "      <th>68</th>\n",
       "      <td>237.4</td>\n",
       "      <td>27.5</td>\n",
       "      <td>27.5</td>\n",
       "      <td>11.0</td>\n",
       "    </tr>\n",
       "    <tr>\n",
       "      <th>124</th>\n",
       "      <td>229.5</td>\n",
       "      <td>32.3</td>\n",
       "      <td>32.3</td>\n",
       "      <td>74.2</td>\n",
       "    </tr>\n",
       "    <tr>\n",
       "      <th>16</th>\n",
       "      <td>67.8</td>\n",
       "      <td>36.6</td>\n",
       "      <td>36.6</td>\n",
       "      <td>114.0</td>\n",
       "    </tr>\n",
       "    <tr>\n",
       "      <th>148</th>\n",
       "      <td>38.0</td>\n",
       "      <td>40.3</td>\n",
       "      <td>40.3</td>\n",
       "      <td>11.9</td>\n",
       "    </tr>\n",
       "    <tr>\n",
       "      <th>93</th>\n",
       "      <td>250.9</td>\n",
       "      <td>36.5</td>\n",
       "      <td>36.5</td>\n",
       "      <td>72.3</td>\n",
       "    </tr>\n",
       "    <tr>\n",
       "      <th>65</th>\n",
       "      <td>69.0</td>\n",
       "      <td>9.3</td>\n",
       "      <td>9.3</td>\n",
       "      <td>0.9</td>\n",
       "    </tr>\n",
       "    <tr>\n",
       "      <th>60</th>\n",
       "      <td>53.5</td>\n",
       "      <td>2.0</td>\n",
       "      <td>2.0</td>\n",
       "      <td>21.4</td>\n",
       "    </tr>\n",
       "    <tr>\n",
       "      <th>84</th>\n",
       "      <td>213.5</td>\n",
       "      <td>43.0</td>\n",
       "      <td>43.0</td>\n",
       "      <td>33.8</td>\n",
       "    </tr>\n",
       "    <tr>\n",
       "      <th>67</th>\n",
       "      <td>139.3</td>\n",
       "      <td>14.5</td>\n",
       "      <td>14.5</td>\n",
       "      <td>10.2</td>\n",
       "    </tr>\n",
       "    <tr>\n",
       "      <th>125</th>\n",
       "      <td>87.2</td>\n",
       "      <td>11.8</td>\n",
       "      <td>11.8</td>\n",
       "      <td>25.9</td>\n",
       "    </tr>\n",
       "    <tr>\n",
       "      <th>132</th>\n",
       "      <td>8.4</td>\n",
       "      <td>27.2</td>\n",
       "      <td>27.2</td>\n",
       "      <td>2.1</td>\n",
       "    </tr>\n",
       "    <tr>\n",
       "      <th>9</th>\n",
       "      <td>199.8</td>\n",
       "      <td>2.6</td>\n",
       "      <td>2.6</td>\n",
       "      <td>21.2</td>\n",
       "    </tr>\n",
       "    <tr>\n",
       "      <th>18</th>\n",
       "      <td>69.2</td>\n",
       "      <td>20.5</td>\n",
       "      <td>20.5</td>\n",
       "      <td>18.3</td>\n",
       "    </tr>\n",
       "    <tr>\n",
       "      <th>55</th>\n",
       "      <td>198.9</td>\n",
       "      <td>49.4</td>\n",
       "      <td>49.4</td>\n",
       "      <td>60.0</td>\n",
       "    </tr>\n",
       "    <tr>\n",
       "      <th>75</th>\n",
       "      <td>16.9</td>\n",
       "      <td>43.7</td>\n",
       "      <td>43.7</td>\n",
       "      <td>89.4</td>\n",
       "    </tr>\n",
       "    <tr>\n",
       "      <th>150</th>\n",
       "      <td>280.7</td>\n",
       "      <td>13.9</td>\n",
       "      <td>13.9</td>\n",
       "      <td>37.0</td>\n",
       "    </tr>\n",
       "    <tr>\n",
       "      <th>104</th>\n",
       "      <td>238.2</td>\n",
       "      <td>34.3</td>\n",
       "      <td>34.3</td>\n",
       "      <td>5.3</td>\n",
       "    </tr>\n",
       "    <tr>\n",
       "      <th>135</th>\n",
       "      <td>48.3</td>\n",
       "      <td>47.0</td>\n",
       "      <td>47.0</td>\n",
       "      <td>8.5</td>\n",
       "    </tr>\n",
       "    <tr>\n",
       "      <th>137</th>\n",
       "      <td>273.7</td>\n",
       "      <td>28.9</td>\n",
       "      <td>28.9</td>\n",
       "      <td>59.7</td>\n",
       "    </tr>\n",
       "    <tr>\n",
       "      <th>164</th>\n",
       "      <td>117.2</td>\n",
       "      <td>14.7</td>\n",
       "      <td>14.7</td>\n",
       "      <td>5.4</td>\n",
       "    </tr>\n",
       "    <tr>\n",
       "      <th>76</th>\n",
       "      <td>27.5</td>\n",
       "      <td>1.6</td>\n",
       "      <td>1.6</td>\n",
       "      <td>20.7</td>\n",
       "    </tr>\n",
       "  </tbody>\n",
       "</table>\n",
       "</div>"
      ],
      "text/plain": [
       "        TV  Mobile  Radio  Newspaper\n",
       "95   163.3    31.6   31.6       52.9\n",
       "15   195.4    47.7   47.7       52.9\n",
       "30   292.9    28.3   28.3       43.2\n",
       "158   11.7    36.9   36.9       45.2\n",
       "128  220.3    49.0   49.0        3.2\n",
       "115   75.1    35.0   35.0       52.7\n",
       "69   216.8    43.9   43.9       27.2\n",
       "170   50.0    11.6   11.6       18.4\n",
       "174  222.4     3.4    3.4       13.1\n",
       "45   175.1    22.5   22.5       31.5\n",
       "66    31.5    24.6   24.6        2.2\n",
       "182   56.2     5.7    5.7       29.7\n",
       "165  234.5     3.4    3.4       84.8\n",
       "78     5.4    29.9   29.9        9.4\n",
       "186  139.5     2.1    2.1       26.6\n",
       "177  170.2     7.8    7.8       35.2\n",
       "56     7.3    28.1   28.1       41.4\n",
       "152  197.6    23.3   23.3       14.2\n",
       "82    75.3    20.3   20.3       32.5\n",
       "68   237.4    27.5   27.5       11.0\n",
       "124  229.5    32.3   32.3       74.2\n",
       "16    67.8    36.6   36.6      114.0\n",
       "148   38.0    40.3   40.3       11.9\n",
       "93   250.9    36.5   36.5       72.3\n",
       "65    69.0     9.3    9.3        0.9\n",
       "60    53.5     2.0    2.0       21.4\n",
       "84   213.5    43.0   43.0       33.8\n",
       "67   139.3    14.5   14.5       10.2\n",
       "125   87.2    11.8   11.8       25.9\n",
       "132    8.4    27.2   27.2        2.1\n",
       "9    199.8     2.6    2.6       21.2\n",
       "18    69.2    20.5   20.5       18.3\n",
       "55   198.9    49.4   49.4       60.0\n",
       "75    16.9    43.7   43.7       89.4\n",
       "150  280.7    13.9   13.9       37.0\n",
       "104  238.2    34.3   34.3        5.3\n",
       "135   48.3    47.0   47.0        8.5\n",
       "137  273.7    28.9   28.9       59.7\n",
       "164  117.2    14.7   14.7        5.4\n",
       "76    27.5     1.6    1.6       20.7"
      ]
     },
     "execution_count": 41,
     "metadata": {},
     "output_type": "execute_result"
    }
   ],
   "source": [
    "advertising_test"
   ]
  },
  {
   "cell_type": "code",
   "execution_count": 39,
   "id": "cffd514e",
   "metadata": {},
   "outputs": [
    {
     "data": {
      "text/plain": [
       "array([[ 0.15781217,  0.59112727,  0.59112727,  1.13227461],\n",
       "       [ 0.53925283,  1.68199613,  1.68199613,  1.13227461],\n",
       "       [ 1.69783431,  0.36753303,  0.36753303,  0.65380096],\n",
       "       [-1.64363349,  0.95023317,  0.95023317,  0.75245532],\n",
       "       [ 0.83513672,  1.77007871,  1.77007871, -1.31928629],\n",
       "       [-0.89025846,  0.82149709,  0.82149709,  1.12240918],\n",
       "       [ 0.79354661,  1.42452397,  1.42452397, -0.13543394],\n",
       "       [-1.18851892, -0.76398933, -0.76398933, -0.56951314],\n",
       "       [ 0.86009078, -1.31958713, -1.31958713, -0.8309472 ],\n",
       "       [ 0.29803023, -0.02545078, -0.02545078,  0.07667294],\n",
       "       [-1.40835233,  0.11683646,  0.11683646, -1.36861347],\n",
       "       [-1.11484502, -1.16374872, -1.16374872, -0.01211599],\n",
       "       [ 1.00387371, -1.31958713, -1.31958713,  2.70581169],\n",
       "       [-1.71849568,  0.47594236,  0.47594236, -1.01345777],\n",
       "       [-0.12500054, -1.40766971, -1.40766971, -0.16503025],\n",
       "       [ 0.23980408, -1.02146148, -1.02146148,  0.25918351],\n",
       "       [-1.69591819,  0.35398186,  0.35398186,  0.56501203],\n",
       "       [ 0.56539519,  0.02875388,  0.02875388, -0.7766873 ],\n",
       "       [-0.88788188, -0.17451361, -0.17451361,  0.12600012],\n",
       "       [ 1.03833409,  0.31332837,  0.31332837, -0.93453428],\n",
       "       [ 0.94445928,  0.63855635,  0.63855635,  2.18294357],\n",
       "       [-0.97700354,  0.92990642,  0.92990642,  4.14616538],\n",
       "       [-1.33111357,  1.18060299,  1.18060299, -0.89013981],\n",
       "       [ 1.19875306,  0.92313083,  0.92313083,  2.08922193],\n",
       "       [-0.96274407, -0.91982774, -0.91982774, -1.43273881],\n",
       "       [-1.14692882, -1.4144453 , -1.4144453 , -0.42153159],\n",
       "       [ 0.75433309,  1.36354373,  1.36354373,  0.19012545],\n",
       "       [-0.12737712, -0.56749742, -0.56749742, -0.97399602],\n",
       "       [-0.74647553, -0.75043816, -0.75043816, -0.19955928],\n",
       "       [-1.68284702,  0.29300162,  0.29300162, -1.37354619],\n",
       "       [ 0.59153754, -1.3737918 , -1.3737918 , -0.43139703],\n",
       "       [-0.96036749, -0.16096244, -0.16096244, -0.57444585],\n",
       "       [ 0.58084294,  1.79718104,  1.79718104,  1.4824976 ],\n",
       "       [-1.58184248,  1.41097281,  1.41097281,  2.93271673],\n",
       "       [ 1.55286309, -0.60815092, -0.60815092,  0.34797243],\n",
       "       [ 1.04784039,  0.77406801,  0.77406801, -1.21569921],\n",
       "       [-1.20871983,  1.63456705,  1.63456705, -1.05785223],\n",
       "       [ 1.46968288,  0.40818653,  0.40818653,  1.46769945],\n",
       "       [-0.38998892, -0.55394626, -0.55394626, -1.21076649],\n",
       "       [-1.45588388, -1.44154763, -1.44154763, -0.45606062]])"
      ]
     },
     "execution_count": 39,
     "metadata": {},
     "output_type": "execute_result"
    }
   ],
   "source": [
    "advertising_prepared"
   ]
  },
  {
   "cell_type": "code",
   "execution_count": 42,
   "id": "8e3fc4d8",
   "metadata": {},
   "outputs": [
    {
     "name": "stdout",
     "output_type": "stream",
     "text": [
      "[17.868 21.966 20.406  6.684 23.211 13.117 22.744  9.684 11.846 15.656\n",
      "  7.042  9.065 12.117  4.499 10.429 12.723  6.709 16.526 11.305 19.54\n",
      " 20.045 12.687 10.344 22.327 10.054  8.977 22.377 12.828  9.988  4.798\n",
      " 11.597 10.932 22.198  8.428 15.227 20.451 12.322 20.306 12.265  7.7  ]\n"
     ]
    }
   ],
   "source": [
    "print(advertising_pridictions)"
   ]
  },
  {
   "cell_type": "code",
   "execution_count": null,
   "id": "e6186a80",
   "metadata": {},
   "outputs": [],
   "source": []
  },
  {
   "cell_type": "code",
   "execution_count": null,
   "id": "bfba14f8",
   "metadata": {},
   "outputs": [],
   "source": []
  }
 ],
 "metadata": {
  "kernelspec": {
   "display_name": "Python 3 (ipykernel)",
   "language": "python",
   "name": "python3"
  },
  "language_info": {
   "codemirror_mode": {
    "name": "ipython",
    "version": 3
   },
   "file_extension": ".py",
   "mimetype": "text/x-python",
   "name": "python",
   "nbconvert_exporter": "python",
   "pygments_lexer": "ipython3",
   "version": "3.9.5"
  }
 },
 "nbformat": 4,
 "nbformat_minor": 5
}
